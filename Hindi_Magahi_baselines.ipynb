{
  "nbformat": 4,
  "nbformat_minor": 0,
  "metadata": {
    "colab": {
      "provenance": [],
      "gpuType": "T4"
    },
    "kernelspec": {
      "name": "python3",
      "display_name": "Python 3"
    },
    "language_info": {
      "name": "python"
    },
    "accelerator": "GPU"
  },
  "cells": [
    {
      "cell_type": "code",
      "execution_count": null,
      "metadata": {
        "id": "9vCSmAAFVX1w",
        "colab": {
          "base_uri": "https://localhost:8080/"
        },
        "outputId": "f13f3b8a-ff2a-4efe-cf54-96784ff50163"
      },
      "outputs": [
        {
          "output_type": "stream",
          "name": "stdout",
          "text": [
            "Drive already mounted at /content/drive/; to attempt to forcibly remount, call drive.mount(\"/content/drive/\", force_remount=True).\n"
          ]
        }
      ],
      "source": [
        "import torch\n",
        "from torchtext.vocab import build_vocab_from_iterator\n",
        "import pandas as pd\n",
        "from nltk.tokenize import WhitespaceTokenizer\n",
        "from google.colab import drive\n",
        "from torch.utils.data import Dataset, DataLoader\n",
        "drive.mount('/content/drive/')\n",
        "import string\n",
        "import torch.nn.functional as F\n",
        "from tqdm import tqdm\n",
        "from sklearn.metrics import precision_score, recall_score, f1_score\n",
        "import copy"
      ]
    },
    {
      "cell_type": "code",
      "source": [
        "device = torch.device('cuda' if torch.cuda.is_available() else 'cpu')"
      ],
      "metadata": {
        "id": "vgiRrOpyTWWQ"
      },
      "execution_count": null,
      "outputs": []
    },
    {
      "cell_type": "code",
      "source": [
        "!ls drive/MyDrive/others/Data/Validation/\n",
        "!ls drive/MyDrive/others/Test/hindi/test.csv"
      ],
      "metadata": {
        "colab": {
          "base_uri": "https://localhost:8080/"
        },
        "id": "WWdYx6pqzqND",
        "outputId": "36f27024-64ce-4474-b29f-1ef627273cbc"
      },
      "execution_count": null,
      "outputs": [
        {
          "output_type": "stream",
          "name": "stdout",
          "text": [
            "valid_Bangla.csv  valid_Hindi.csv  valid_Magahi.csv\n",
            "drive/MyDrive/others/Test/hindi/test.csv\n"
          ]
        }
      ]
    },
    {
      "cell_type": "markdown",
      "source": [
        "## Data Loading And Preprocessing"
      ],
      "metadata": {
        "id": "NqrTpZAYxqNU"
      }
    },
    {
      "cell_type": "code",
      "source": [
        "train_df = pd.read_csv('drive/MyDrive/others/Data/Training/train_Hindi.csv')\n",
        "train_df['sentence'] = train_df['sentence'].str.lower()\n",
        "valid_df = pd.read_csv('drive/MyDrive/others/Data/Validation/valid_Hindi.csv')\n",
        "valid_df['sentence'] = valid_df['sentence'].str.lower()\n",
        "test_df = pd.read_csv('drive/MyDrive/others/Test/hindi/test.csv')\n",
        "test_df['sentence'] = valid_df['sentence'].str.lower()\n",
        "\n",
        "tokenizer = WhitespaceTokenizer()\n",
        "\n",
        "punct = string.punctuation\n",
        "\n",
        "def remove_punct_one(txt):\n",
        "  for c in list(punct):\n",
        "    txt = txt.replace(c, \"\")\n",
        "  return txt\n",
        "\n",
        "train_df['sentence'] = train_df['sentence'].apply(remove_punct_one)\n",
        "valid_df['sentence'] = valid_df['sentence'].apply(remove_punct_one)\n",
        "test_df['sentence'] = test_df['sentence'].apply(remove_punct_one)"
      ],
      "metadata": {
        "id": "m0hJ6bP20Yet"
      },
      "execution_count": null,
      "outputs": []
    },
    {
      "cell_type": "markdown",
      "source": [
        "### Vocab implementation on pre-processed dataset"
      ],
      "metadata": {
        "id": "7hDWqtLRxwTB"
      }
    },
    {
      "cell_type": "code",
      "source": [
        "def prepare_datasets_and_vocab(data_frame):\n",
        "    ## all the files for MEMD-ABSA\n",
        "    sentences = list(map(lambda x: tokenizer.tokenize(x), data_frame['sentence']))\n",
        "    vocab = build_vocab_from_iterator(sentences, specials=[\"<unk>\"], min_freq=2)\n",
        "    vocab.set_default_index(vocab['<unk>'])\n",
        "    return vocab"
      ],
      "metadata": {
        "id": "-2J3t3Q9y7Ed"
      },
      "execution_count": null,
      "outputs": []
    },
    {
      "cell_type": "code",
      "source": [
        "vocab = prepare_datasets_and_vocab(train_df)\n",
        "print(f\"Unique Words: {len(vocab)}\")"
      ],
      "metadata": {
        "colab": {
          "base_uri": "https://localhost:8080/"
        },
        "id": "0MRuj3x42Zsb",
        "outputId": "70c95286-30d7-458c-c33a-1f9a89b459af"
      },
      "execution_count": null,
      "outputs": [
        {
          "output_type": "stream",
          "name": "stdout",
          "text": [
            "Unique Words: 3332\n"
          ]
        }
      ]
    },
    {
      "cell_type": "code",
      "source": [
        "print('Senitment Labels:')\n",
        "train_df['sentiment'].value_counts()"
      ],
      "metadata": {
        "colab": {
          "base_uri": "https://localhost:8080/"
        },
        "id": "GYbMSqjGlmsk",
        "outputId": "3323c471-33cb-46d3-9a7a-9870f90d863c"
      },
      "execution_count": null,
      "outputs": [
        {
          "output_type": "stream",
          "name": "stdout",
          "text": [
            "Senitment Labels:\n"
          ]
        },
        {
          "output_type": "execute_result",
          "data": {
            "text/plain": [
              "positive    1898\n",
              "negative     419\n",
              "mix          113\n",
              "neutral       77\n",
              "Name: sentiment, dtype: int64"
            ]
          },
          "metadata": {},
          "execution_count": 28
        }
      ]
    },
    {
      "cell_type": "markdown",
      "source": [
        "## Model Architecture\n",
        "Embedding size: 100\n",
        "\n",
        "BI-LSTM: 64*2\n",
        "\n",
        "Fully Connected: 128\n",
        "\n",
        "Fully Connected: 3"
      ],
      "metadata": {
        "id": "kCpjswDRx3pv"
      }
    },
    {
      "cell_type": "code",
      "source": [
        "class SentimentModel(torch.nn.Module):\n",
        "    def __init__(self, vocab_size, emb_size):\n",
        "        '''double embedding + lstm encoder + dot self attention'''\n",
        "        super(SentimentModel, self).__init__()\n",
        "\n",
        "        self.gen_embedding = torch.nn.Embedding(vocab_size, emb_size)\n",
        "        self.dropout = torch.nn.Dropout(p=0.1)\n",
        "\n",
        "\n",
        "\n",
        "        ## input size 400, output size 2 x 50\n",
        "        self.norm1 = torch.nn.LayerNorm(emb_size)\n",
        "        self.bilstm = torch.nn.LSTM(emb_size, 64,\n",
        "                                    num_layers=2, batch_first=True, bidirectional=True)\n",
        "        self.norm2 = torch.nn.LayerNorm(128)\n",
        "        self.fc1 = torch.nn.Linear(128, 64)\n",
        "\n",
        "        self.class_layer = torch.nn.Linear(64, 4)\n",
        "\n",
        "\n",
        "    def forward(self, X):\n",
        "        emb = self.dropout(self.gen_embedding(X))\n",
        "\n",
        "        norm1 = self.norm1(emb)\n",
        "\n",
        "        output, (h_n, c_n) =  self.bilstm(emb)\n",
        "        # print(output.shape)\n",
        "        # fc1 = self.fc1(F.relu(output[:, -1, :]))\n",
        "        fc1 = self.fc1(self.norm2(output[:, -1, :]))\n",
        "        classout = self.class_layer(fc1)\n",
        "        return classout\n",
        "\n"
      ],
      "metadata": {
        "id": "CQAOueVO3OXv"
      },
      "execution_count": null,
      "outputs": []
    },
    {
      "cell_type": "code",
      "source": [
        "class SentDataset(Dataset):\n",
        "  def __init__(self, data_df, tokenizer, vocab, maxlen=128):\n",
        "    self.tokenizer = tokenizer\n",
        "    self.vocab = vocab\n",
        "    self.data_df = data_df\n",
        "    self.maxlen = maxlen\n",
        "    self.label_encoding = { # add more if more sentiment labels are present\n",
        "        \"negative\": 0,\n",
        "        \"neutral\": 1,\n",
        "        \"positive\":2,\n",
        "        \"mix\":3,\n",
        "    }\n",
        "    self.punct = string.punctuation\n",
        "    self.encoded_data = []\n",
        "    self._build()\n",
        "\n",
        "  def _build(self):\n",
        "    for sentence, label in self.data_df.values:\n",
        "      enc_tokens = [0] * self.maxlen\n",
        "      tokens = self.tokenizer.tokenize(sentence)\n",
        "      if len(tokens)<=128:\n",
        "        enc_tokens[:len(tokens)] = self.vocab(tokens)\n",
        "      else:\n",
        "        enc_tokens[:128] = self.vocab(tokens)[:128]\n",
        "      lab = self.label_encoding[label]\n",
        "      self.encoded_data.append([torch.tensor(enc_tokens),  torch.tensor(lab)])\n",
        "\n",
        "  def __getitem__(self, index):\n",
        "     return self.encoded_data[index]\n",
        "\n",
        "  def __len__(self):\n",
        "    return len(self.encoded_data)\n"
      ],
      "metadata": {
        "id": "Dy4xDj0X3-b9"
      },
      "execution_count": null,
      "outputs": []
    },
    {
      "cell_type": "code",
      "source": [
        "train_dataset = SentDataset(train_df, tokenizer, vocab)\n",
        "valid_dataset = SentDataset(valid_df, tokenizer, vocab)\n",
        "test_dataset = SentDataset(test_df, tokenizer, vocab)"
      ],
      "metadata": {
        "id": "pR3CqZTcrc3k"
      },
      "execution_count": null,
      "outputs": []
    },
    {
      "cell_type": "code",
      "source": [
        "vals = dict(train_df['sentiment'].value_counts())\n",
        "tot = sum(vals.values())\n",
        "w_neg = 1/vals['negative']\n",
        "w_neu = 1/vals['neutral']\n",
        "w_pos = 1/vals['positive']\n",
        "w_mix = 1/vals['mix']\n",
        "sent_weights = torch.tensor([w_neg, w_neu, w_pos, w_mix], dtype=torch.float)\n",
        "sent_weights.to(device)"
      ],
      "metadata": {
        "id": "6hZZjOlFQ1lF",
        "colab": {
          "base_uri": "https://localhost:8080/"
        },
        "outputId": "67921b8f-96a6-4dbd-83df-f872c7e9257c"
      },
      "execution_count": null,
      "outputs": [
        {
          "output_type": "execute_result",
          "data": {
            "text/plain": [
              "tensor([0.0024, 0.0130, 0.0005, 0.0088], device='cuda:0')"
            ]
          },
          "metadata": {},
          "execution_count": 32
        }
      ]
    },
    {
      "cell_type": "code",
      "source": [
        "train_dataloader = DataLoader(train_dataset, batch_size=128)\n",
        "valid_dataloader = DataLoader(valid_dataset, batch_size=32, shuffle=False)\n",
        "model = SentimentModel(len(vocab), 100)\n",
        "loss_fn = torch.nn.CrossEntropyLoss(weight=sent_weights)\n",
        "loss_fn.to(device)\n",
        "optimizer = torch.optim.Adam(model.parameters(), lr=0.005)#, weight_decay=0.001)\n",
        "best_model = None\n",
        "model.to(device)\n"
      ],
      "metadata": {
        "id": "fw3sJJfh_tSo",
        "colab": {
          "base_uri": "https://localhost:8080/"
        },
        "outputId": "1b117d41-91ed-4947-d6f4-f9e4aedbf57b"
      },
      "execution_count": null,
      "outputs": [
        {
          "output_type": "execute_result",
          "data": {
            "text/plain": [
              "SentimentModel(\n",
              "  (gen_embedding): Embedding(3332, 100)\n",
              "  (dropout): Dropout(p=0.1, inplace=False)\n",
              "  (norm1): LayerNorm((100,), eps=1e-05, elementwise_affine=True)\n",
              "  (bilstm): LSTM(100, 64, num_layers=2, batch_first=True, bidirectional=True)\n",
              "  (norm2): LayerNorm((128,), eps=1e-05, elementwise_affine=True)\n",
              "  (fc1): Linear(in_features=128, out_features=64, bias=True)\n",
              "  (class_layer): Linear(in_features=64, out_features=4, bias=True)\n",
              ")"
            ]
          },
          "metadata": {},
          "execution_count": 43
        }
      ]
    },
    {
      "cell_type": "code",
      "source": [
        "def eval_loop(pred_model, dataloader):\n",
        "  dload = tqdm(dataloader)\n",
        "  preds = []\n",
        "  golds = []\n",
        "  pred_model.to(device)\n",
        "  pred_model.eval()\n",
        "  with torch.no_grad():\n",
        "    for batch in dload:\n",
        "      x, y = batch\n",
        "      pred_out = pred_model(x.to(device))\n",
        "      predictions = pred_out.argmax(dim=-1).tolist()\n",
        "      gold_labs = y.tolist()\n",
        "      for i in range(len(predictions)):\n",
        "        preds.append(predictions[i])\n",
        "        golds.append(gold_labs[i])\n",
        "\n",
        "    precise_macro = precision_score(golds, preds, average='macro')#, zero_division=0)\n",
        "    recall_macro = recall_score(golds, preds, average='macro')#, zero_division=0)\n",
        "    f1_macro = f1_score(golds, preds, average='macro')#, zero_division=0)\n",
        "\n",
        "  return preds, {\n",
        "      'macro_precision': precise_macro,\n",
        "      'macro_recall': recall_macro,\n",
        "      'macro_f1': f1_macro\n",
        "  }"
      ],
      "metadata": {
        "id": "Te6Qq8UsulA-"
      },
      "execution_count": null,
      "outputs": []
    },
    {
      "cell_type": "code",
      "source": [
        "N_EPOCHS = 80\n",
        "best_f1 = -1\n",
        "for epoch in range(N_EPOCHS):\n",
        "  train_epoch_loss = 0\n",
        "  model.to(device)\n",
        "  model.train()\n",
        "  train_ite = tqdm(train_dataloader)\n",
        "  for batch in train_ite:\n",
        "    x, l = batch\n",
        "    x = x.to(device)\n",
        "    l = l.to(device)\n",
        "    output = model(x)\n",
        "\n",
        "    loss = loss_fn(output, l)\n",
        "    model.zero_grad()\n",
        "    loss.backward()\n",
        "    optimizer.step()\n",
        "    train_ite.set_postfix({'training loss': loss.item()})\n",
        "    train_epoch_loss += loss.item()\n",
        "\n",
        "  validation_epoch_loss = 0\n",
        "  valid_ite = tqdm(valid_dataloader)\n",
        "  preds = []\n",
        "  golds = []\n",
        "  model.eval()\n",
        "  with torch.no_grad():\n",
        "    for batch in valid_ite:\n",
        "      x, y = batch\n",
        "      pred_out = model(x.to(device))\n",
        "      preds += pred_out.argmax(dim=-1).tolist()\n",
        "      golds += y.tolist()\n",
        "      val_loss = loss_fn(pred_out.to(device),y.to(device))\n",
        "      valid_ite.set_postfix({'validation loss': val_loss.item()})\n",
        "      validation_epoch_loss = val_loss.item()\n",
        "    print()\n",
        "    print('--'*20, ' Validation Scores ', '--'*20)\n",
        "    precise_macro = precision_score(golds, preds, average='macro', zero_division=0)\n",
        "    recall_macro = recall_score(golds, preds, average='macro', zero_division=0)\n",
        "    f1_macro = f1_score(golds, preds, average='macro', zero_division=0)\n",
        "    if f1_macro > best_f1:\n",
        "      best_model = copy.deepcopy(model)\n",
        "      best_f1 = f1_macro\n",
        "    print(f'EPOCH: {epoch}')\n",
        "    print(f'avg training loss: {(train_epoch_loss/len(train_dataset))}, avg validation loss:{(validation_epoch_loss/len(valid_dataset))}')\n",
        "    print(f'precision:{precise_macro}, recall:{recall_macro}, f1:{f1_macro}')\n",
        "    # if best_f1<f1_macro:\n",
        "    print('--'*50)\n",
        "\n"
      ],
      "metadata": {
        "id": "JCm3d8HiRnHR",
        "colab": {
          "base_uri": "https://localhost:8080/"
        },
        "outputId": "f60b17f5-f184-4734-dce0-d8d54a566e2e"
      },
      "execution_count": null,
      "outputs": [
        {
          "output_type": "stream",
          "name": "stderr",
          "text": [
            "100%|██████████| 20/20 [00:00<00:00, 60.74it/s, training loss=1.41]\n",
            "100%|██████████| 17/17 [00:00<00:00, 268.33it/s, validation loss=1.4]\n"
          ]
        },
        {
          "output_type": "stream",
          "name": "stdout",
          "text": [
            "\n",
            "----------------------------------------  Validation Scores  ----------------------------------------\n",
            "EPOCH: 0\n",
            "avg training loss: 0.011946265470187503, avg validation loss:0.002605934568497328\n",
            "precision:0.007434944237918215, recall:0.25, f1:0.014440433212996389\n",
            "----------------------------------------------------------------------------------------------------\n"
          ]
        },
        {
          "output_type": "stream",
          "name": "stderr",
          "text": [
            "100%|██████████| 20/20 [00:00<00:00, 91.44it/s, training loss=1.4]\n",
            "100%|██████████| 17/17 [00:00<00:00, 252.25it/s, validation loss=1.48]\n"
          ]
        },
        {
          "output_type": "stream",
          "name": "stdout",
          "text": [
            "\n",
            "----------------------------------------  Validation Scores  ----------------------------------------\n",
            "EPOCH: 1\n",
            "avg training loss: 0.011144040826311328, avg validation loss:0.0027590159146759145\n",
            "precision:0.007434944237918215, recall:0.25, f1:0.014440433212996389\n",
            "----------------------------------------------------------------------------------------------------\n"
          ]
        },
        {
          "output_type": "stream",
          "name": "stderr",
          "text": [
            "100%|██████████| 20/20 [00:00<00:00, 92.21it/s, training loss=1.4]\n",
            "100%|██████████| 17/17 [00:00<00:00, 254.30it/s, validation loss=1.36]\n"
          ]
        },
        {
          "output_type": "stream",
          "name": "stdout",
          "text": [
            "\n",
            "----------------------------------------  Validation Scores  ----------------------------------------\n",
            "EPOCH: 2\n",
            "avg training loss: 0.011153059743722216, avg validation loss:0.0025368651936045366\n",
            "precision:0.041821561338289966, recall:0.25, f1:0.07165605095541402\n",
            "----------------------------------------------------------------------------------------------------\n"
          ]
        },
        {
          "output_type": "stream",
          "name": "stderr",
          "text": [
            "100%|██████████| 20/20 [00:00<00:00, 92.90it/s, training loss=1.4]\n",
            "100%|██████████| 17/17 [00:00<00:00, 240.22it/s, validation loss=1.36]\n"
          ]
        },
        {
          "output_type": "stream",
          "name": "stdout",
          "text": [
            "\n",
            "----------------------------------------  Validation Scores  ----------------------------------------\n",
            "EPOCH: 3\n",
            "avg training loss: 0.011085310874348577, avg validation loss:0.002527151852292199\n",
            "precision:0.041821561338289966, recall:0.25, f1:0.07165605095541402\n",
            "----------------------------------------------------------------------------------------------------\n"
          ]
        },
        {
          "output_type": "stream",
          "name": "stderr",
          "text": [
            "100%|██████████| 20/20 [00:00<00:00, 93.52it/s, training loss=1.39]\n",
            "100%|██████████| 17/17 [00:00<00:00, 270.65it/s, validation loss=1.4]\n"
          ]
        },
        {
          "output_type": "stream",
          "name": "stdout",
          "text": [
            "\n",
            "----------------------------------------  Validation Scores  ----------------------------------------\n",
            "EPOCH: 4\n",
            "avg training loss: 0.011023697265363282, avg validation loss:0.0025964312837026375\n",
            "precision:0.011617100371747211, recall:0.25, f1:0.02220248667850799\n",
            "----------------------------------------------------------------------------------------------------\n"
          ]
        },
        {
          "output_type": "stream",
          "name": "stderr",
          "text": [
            "100%|██████████| 20/20 [00:00<00:00, 93.64it/s, training loss=1.39]\n",
            "100%|██████████| 17/17 [00:00<00:00, 262.81it/s, validation loss=1.41]\n"
          ]
        },
        {
          "output_type": "stream",
          "name": "stdout",
          "text": [
            "\n",
            "----------------------------------------  Validation Scores  ----------------------------------------\n",
            "EPOCH: 5\n",
            "avg training loss: 0.011010419908728216, avg validation loss:0.0026265196640695336\n",
            "precision:0.011617100371747211, recall:0.25, f1:0.02220248667850799\n",
            "----------------------------------------------------------------------------------------------------\n"
          ]
        },
        {
          "output_type": "stream",
          "name": "stderr",
          "text": [
            "100%|██████████| 20/20 [00:00<00:00, 92.71it/s, training loss=1.4]\n",
            "100%|██████████| 17/17 [00:00<00:00, 263.79it/s, validation loss=1.41]\n"
          ]
        },
        {
          "output_type": "stream",
          "name": "stdout",
          "text": [
            "\n",
            "----------------------------------------  Validation Scores  ----------------------------------------\n",
            "EPOCH: 6\n",
            "avg training loss: 0.011017295198703031, avg validation loss:0.002614932432493756\n",
            "precision:0.011617100371747211, recall:0.25, f1:0.02220248667850799\n",
            "----------------------------------------------------------------------------------------------------\n"
          ]
        },
        {
          "output_type": "stream",
          "name": "stderr",
          "text": [
            "100%|██████████| 20/20 [00:00<00:00, 93.41it/s, training loss=1.41]\n",
            "100%|██████████| 17/17 [00:00<00:00, 259.07it/s, validation loss=1.39]\n"
          ]
        },
        {
          "output_type": "stream",
          "name": "stdout",
          "text": [
            "\n",
            "----------------------------------------  Validation Scores  ----------------------------------------\n",
            "EPOCH: 7\n",
            "avg training loss: 0.011018814439549121, avg validation loss:0.002591462383482979\n",
            "precision:0.041821561338289966, recall:0.25, f1:0.07165605095541402\n",
            "----------------------------------------------------------------------------------------------------\n"
          ]
        },
        {
          "output_type": "stream",
          "name": "stderr",
          "text": [
            "100%|██████████| 20/20 [00:00<00:00, 92.88it/s, training loss=1.4]\n",
            "100%|██████████| 17/17 [00:00<00:00, 255.28it/s, validation loss=1.44]\n"
          ]
        },
        {
          "output_type": "stream",
          "name": "stdout",
          "text": [
            "\n",
            "----------------------------------------  Validation Scores  ----------------------------------------\n",
            "EPOCH: 8\n",
            "avg training loss: 0.011004356164403489, avg validation loss:0.002672557050853857\n",
            "precision:0.007434944237918215, recall:0.25, f1:0.014440433212996389\n",
            "----------------------------------------------------------------------------------------------------\n"
          ]
        },
        {
          "output_type": "stream",
          "name": "stderr",
          "text": [
            "100%|██████████| 20/20 [00:00<00:00, 93.08it/s, training loss=1.39]\n",
            "100%|██████████| 17/17 [00:00<00:00, 270.12it/s, validation loss=1.41]\n"
          ]
        },
        {
          "output_type": "stream",
          "name": "stdout",
          "text": [
            "\n",
            "----------------------------------------  Validation Scores  ----------------------------------------\n",
            "EPOCH: 9\n",
            "avg training loss: 0.011021092492458494, avg validation loss:0.002623176042918379\n",
            "precision:0.011617100371747211, recall:0.25, f1:0.02220248667850799\n",
            "----------------------------------------------------------------------------------------------------\n"
          ]
        },
        {
          "output_type": "stream",
          "name": "stderr",
          "text": [
            "100%|██████████| 20/20 [00:00<00:00, 93.45it/s, training loss=1.39]\n",
            "100%|██████████| 17/17 [00:00<00:00, 273.21it/s, validation loss=1.35]\n"
          ]
        },
        {
          "output_type": "stream",
          "name": "stdout",
          "text": [
            "\n",
            "----------------------------------------  Validation Scores  ----------------------------------------\n",
            "EPOCH: 10\n",
            "avg training loss: 0.011018553244244972, avg validation loss:0.0025174637709408443\n",
            "precision:0.18912639405204462, recall:0.25, f1:0.21534391534391537\n",
            "----------------------------------------------------------------------------------------------------\n"
          ]
        },
        {
          "output_type": "stream",
          "name": "stderr",
          "text": [
            "100%|██████████| 20/20 [00:00<00:00, 89.96it/s, training loss=1.39]\n",
            "100%|██████████| 17/17 [00:00<00:00, 271.12it/s, validation loss=1.36]\n"
          ]
        },
        {
          "output_type": "stream",
          "name": "stdout",
          "text": [
            "\n",
            "----------------------------------------  Validation Scores  ----------------------------------------\n",
            "EPOCH: 11\n",
            "avg training loss: 0.010992148457935334, avg validation loss:0.0025231432737471003\n",
            "precision:0.18912639405204462, recall:0.25, f1:0.21534391534391537\n",
            "----------------------------------------------------------------------------------------------------\n"
          ]
        },
        {
          "output_type": "stream",
          "name": "stderr",
          "text": [
            "100%|██████████| 20/20 [00:00<00:00, 94.33it/s, training loss=1.39]\n",
            "100%|██████████| 17/17 [00:00<00:00, 248.80it/s, validation loss=1.36]\n"
          ]
        },
        {
          "output_type": "stream",
          "name": "stdout",
          "text": [
            "\n",
            "----------------------------------------  Validation Scores  ----------------------------------------\n",
            "EPOCH: 12\n",
            "avg training loss: 0.01098358041506913, avg validation loss:0.0025360683969405506\n",
            "precision:0.18912639405204462, recall:0.25, f1:0.21534391534391537\n",
            "----------------------------------------------------------------------------------------------------\n"
          ]
        },
        {
          "output_type": "stream",
          "name": "stderr",
          "text": [
            "100%|██████████| 20/20 [00:00<00:00, 93.03it/s, training loss=1.39]\n",
            "100%|██████████| 17/17 [00:00<00:00, 240.93it/s, validation loss=1.36]\n"
          ]
        },
        {
          "output_type": "stream",
          "name": "stdout",
          "text": [
            "\n",
            "----------------------------------------  Validation Scores  ----------------------------------------\n",
            "EPOCH: 13\n",
            "avg training loss: 0.010983362776090959, avg validation loss:0.002530344578413272\n",
            "precision:0.041821561338289966, recall:0.25, f1:0.07165605095541402\n",
            "----------------------------------------------------------------------------------------------------\n"
          ]
        },
        {
          "output_type": "stream",
          "name": "stderr",
          "text": [
            "100%|██████████| 20/20 [00:00<00:00, 89.96it/s, training loss=1.39]\n",
            "100%|██████████| 17/17 [00:00<00:00, 263.12it/s, validation loss=1.36]\n"
          ]
        },
        {
          "output_type": "stream",
          "name": "stdout",
          "text": [
            "\n",
            "----------------------------------------  Validation Scores  ----------------------------------------\n",
            "EPOCH: 14\n",
            "avg training loss: 0.01098065515129415, avg validation loss:0.002528593221118459\n",
            "precision:0.041821561338289966, recall:0.25, f1:0.07165605095541402\n",
            "----------------------------------------------------------------------------------------------------\n"
          ]
        },
        {
          "output_type": "stream",
          "name": "stderr",
          "text": [
            "100%|██████████| 20/20 [00:00<00:00, 94.18it/s, training loss=1.39]\n",
            "100%|██████████| 17/17 [00:00<00:00, 252.87it/s, validation loss=1.36]\n"
          ]
        },
        {
          "output_type": "stream",
          "name": "stdout",
          "text": [
            "\n",
            "----------------------------------------  Validation Scores  ----------------------------------------\n",
            "EPOCH: 15\n",
            "avg training loss: 0.010978262025995182, avg validation loss:0.0025314225583271464\n",
            "precision:0.041821561338289966, recall:0.25, f1:0.07165605095541402\n",
            "----------------------------------------------------------------------------------------------------\n"
          ]
        },
        {
          "output_type": "stream",
          "name": "stderr",
          "text": [
            "100%|██████████| 20/20 [00:00<00:00, 92.70it/s, training loss=1.39]\n",
            "100%|██████████| 17/17 [00:00<00:00, 238.06it/s, validation loss=1.36]\n"
          ]
        },
        {
          "output_type": "stream",
          "name": "stdout",
          "text": [
            "\n",
            "----------------------------------------  Validation Scores  ----------------------------------------\n",
            "EPOCH: 16\n",
            "avg training loss: 0.010977923418356215, avg validation loss:0.0025300197441781762\n",
            "precision:0.041821561338289966, recall:0.25, f1:0.07165605095541402\n",
            "----------------------------------------------------------------------------------------------------\n"
          ]
        },
        {
          "output_type": "stream",
          "name": "stderr",
          "text": [
            "100%|██████████| 20/20 [00:00<00:00, 87.84it/s, training loss=1.39]\n",
            "100%|██████████| 17/17 [00:00<00:00, 247.82it/s, validation loss=1.36]\n"
          ]
        },
        {
          "output_type": "stream",
          "name": "stdout",
          "text": [
            "\n",
            "----------------------------------------  Validation Scores  ----------------------------------------\n",
            "EPOCH: 17\n",
            "avg training loss: 0.010976958094149126, avg validation loss:0.0025304928145000924\n",
            "precision:0.041821561338289966, recall:0.25, f1:0.07165605095541402\n",
            "----------------------------------------------------------------------------------------------------\n"
          ]
        },
        {
          "output_type": "stream",
          "name": "stderr",
          "text": [
            "100%|██████████| 20/20 [00:00<00:00, 92.49it/s, training loss=1.39]\n",
            "100%|██████████| 17/17 [00:00<00:00, 244.34it/s, validation loss=1.36]\n"
          ]
        },
        {
          "output_type": "stream",
          "name": "stdout",
          "text": [
            "\n",
            "----------------------------------------  Validation Scores  ----------------------------------------\n",
            "EPOCH: 18\n",
            "avg training loss: 0.010976229001194725, avg validation loss:0.002529727260419427\n",
            "precision:0.041821561338289966, recall:0.25, f1:0.07165605095541402\n",
            "----------------------------------------------------------------------------------------------------\n"
          ]
        },
        {
          "output_type": "stream",
          "name": "stderr",
          "text": [
            "100%|██████████| 20/20 [00:00<00:00, 90.33it/s, training loss=1.39]\n",
            "100%|██████████| 17/17 [00:00<00:00, 239.51it/s, validation loss=1.36]\n"
          ]
        },
        {
          "output_type": "stream",
          "name": "stdout",
          "text": [
            "\n",
            "----------------------------------------  Validation Scores  ----------------------------------------\n",
            "EPOCH: 19\n",
            "avg training loss: 0.010975063298867906, avg validation loss:0.002532472397758172\n",
            "precision:0.041821561338289966, recall:0.25, f1:0.07165605095541402\n",
            "----------------------------------------------------------------------------------------------------\n"
          ]
        },
        {
          "output_type": "stream",
          "name": "stderr",
          "text": [
            "100%|██████████| 20/20 [00:00<00:00, 85.87it/s, training loss=1.39]\n",
            "100%|██████████| 17/17 [00:00<00:00, 203.51it/s, validation loss=1.36]\n"
          ]
        },
        {
          "output_type": "stream",
          "name": "stdout",
          "text": [
            "\n",
            "----------------------------------------  Validation Scores  ----------------------------------------\n",
            "EPOCH: 20\n",
            "avg training loss: 0.010975202669600923, avg validation loss:0.002532274084906596\n",
            "precision:0.041821561338289966, recall:0.25, f1:0.07165605095541402\n",
            "----------------------------------------------------------------------------------------------------\n"
          ]
        },
        {
          "output_type": "stream",
          "name": "stderr",
          "text": [
            "100%|██████████| 20/20 [00:00<00:00, 91.98it/s, training loss=1.39]\n",
            "100%|██████████| 17/17 [00:00<00:00, 270.27it/s, validation loss=1.36]\n"
          ]
        },
        {
          "output_type": "stream",
          "name": "stdout",
          "text": [
            "\n",
            "----------------------------------------  Validation Scores  ----------------------------------------\n",
            "EPOCH: 21\n",
            "avg training loss: 0.010975197201284889, avg validation loss:0.0025370194123136955\n",
            "precision:0.041821561338289966, recall:0.25, f1:0.07165605095541402\n",
            "----------------------------------------------------------------------------------------------------\n"
          ]
        },
        {
          "output_type": "stream",
          "name": "stderr",
          "text": [
            "100%|██████████| 20/20 [00:00<00:00, 90.78it/s, training loss=1.39]\n",
            "100%|██████████| 17/17 [00:00<00:00, 270.37it/s, validation loss=1.37]\n"
          ]
        },
        {
          "output_type": "stream",
          "name": "stdout",
          "text": [
            "\n",
            "----------------------------------------  Validation Scores  ----------------------------------------\n",
            "EPOCH: 22\n",
            "avg training loss: 0.010976590242907019, avg validation loss:0.002541021786657851\n",
            "precision:0.041821561338289966, recall:0.25, f1:0.07165605095541402\n",
            "----------------------------------------------------------------------------------------------------\n"
          ]
        },
        {
          "output_type": "stream",
          "name": "stderr",
          "text": [
            "100%|██████████| 20/20 [00:00<00:00, 86.76it/s, training loss=1.39]\n",
            "100%|██████████| 17/17 [00:00<00:00, 210.23it/s, validation loss=1.38]\n"
          ]
        },
        {
          "output_type": "stream",
          "name": "stdout",
          "text": [
            "\n",
            "----------------------------------------  Validation Scores  ----------------------------------------\n",
            "EPOCH: 23\n",
            "avg training loss: 0.010978953221141936, avg validation loss:0.0025622966564277736\n",
            "precision:0.041821561338289966, recall:0.25, f1:0.07165605095541402\n",
            "----------------------------------------------------------------------------------------------------\n"
          ]
        },
        {
          "output_type": "stream",
          "name": "stderr",
          "text": [
            "100%|██████████| 20/20 [00:00<00:00, 89.41it/s, training loss=1.39]\n",
            "100%|██████████| 17/17 [00:00<00:00, 233.94it/s, validation loss=1.41]\n"
          ]
        },
        {
          "output_type": "stream",
          "name": "stdout",
          "text": [
            "\n",
            "----------------------------------------  Validation Scores  ----------------------------------------\n",
            "EPOCH: 24\n",
            "avg training loss: 0.010986127794430842, avg validation loss:0.0026144442948266918\n",
            "precision:0.007434944237918215, recall:0.25, f1:0.014440433212996389\n",
            "----------------------------------------------------------------------------------------------------\n"
          ]
        },
        {
          "output_type": "stream",
          "name": "stderr",
          "text": [
            "100%|██████████| 20/20 [00:00<00:00, 88.02it/s, training loss=1.39]\n",
            "100%|██████████| 17/17 [00:00<00:00, 237.65it/s, validation loss=1.49]\n"
          ]
        },
        {
          "output_type": "stream",
          "name": "stdout",
          "text": [
            "\n",
            "----------------------------------------  Validation Scores  ----------------------------------------\n",
            "EPOCH: 25\n",
            "avg training loss: 0.010994546148089427, avg validation loss:0.002761392123637146\n",
            "precision:0.007434944237918215, recall:0.25, f1:0.014440433212996389\n",
            "----------------------------------------------------------------------------------------------------\n"
          ]
        },
        {
          "output_type": "stream",
          "name": "stderr",
          "text": [
            "100%|██████████| 20/20 [00:00<00:00, 88.28it/s, training loss=1.39]\n",
            "100%|██████████| 17/17 [00:00<00:00, 227.91it/s, validation loss=1.56]\n"
          ]
        },
        {
          "output_type": "stream",
          "name": "stdout",
          "text": [
            "\n",
            "----------------------------------------  Validation Scores  ----------------------------------------\n",
            "EPOCH: 26\n",
            "avg training loss: 0.011004726250522585, avg validation loss:0.0028909438161601807\n",
            "precision:0.011617100371747211, recall:0.25, f1:0.02220248667850799\n",
            "----------------------------------------------------------------------------------------------------\n"
          ]
        },
        {
          "output_type": "stream",
          "name": "stderr",
          "text": [
            "100%|██████████| 20/20 [00:00<00:00, 90.93it/s, training loss=1.39]\n",
            "100%|██████████| 17/17 [00:00<00:00, 277.44it/s, validation loss=1.56]\n"
          ]
        },
        {
          "output_type": "stream",
          "name": "stdout",
          "text": [
            "\n",
            "----------------------------------------  Validation Scores  ----------------------------------------\n",
            "EPOCH: 27\n",
            "avg training loss: 0.011014914484103933, avg validation loss:0.0028991513092721704\n",
            "precision:0.011617100371747211, recall:0.25, f1:0.02220248667850799\n",
            "----------------------------------------------------------------------------------------------------\n"
          ]
        },
        {
          "output_type": "stream",
          "name": "stderr",
          "text": [
            "100%|██████████| 20/20 [00:00<00:00, 89.88it/s, training loss=1.38]\n",
            "100%|██████████| 17/17 [00:00<00:00, 229.62it/s, validation loss=1.52]\n"
          ]
        },
        {
          "output_type": "stream",
          "name": "stdout",
          "text": [
            "\n",
            "----------------------------------------  Validation Scores  ----------------------------------------\n",
            "EPOCH: 28\n",
            "avg training loss: 0.011012439999772488, avg validation loss:0.00282793550243165\n",
            "precision:0.011617100371747211, recall:0.25, f1:0.02220248667850799\n",
            "----------------------------------------------------------------------------------------------------\n"
          ]
        },
        {
          "output_type": "stream",
          "name": "stderr",
          "text": [
            "100%|██████████| 20/20 [00:00<00:00, 82.85it/s, training loss=1.38]\n",
            "100%|██████████| 17/17 [00:00<00:00, 197.78it/s, validation loss=1.44]\n"
          ]
        },
        {
          "output_type": "stream",
          "name": "stdout",
          "text": [
            "\n",
            "----------------------------------------  Validation Scores  ----------------------------------------\n",
            "EPOCH: 29\n",
            "avg training loss: 0.011038269091280133, avg validation loss:0.0026792482815710585\n",
            "precision:0.011617100371747211, recall:0.25, f1:0.02220248667850799\n",
            "----------------------------------------------------------------------------------------------------\n"
          ]
        },
        {
          "output_type": "stream",
          "name": "stderr",
          "text": [
            "100%|██████████| 20/20 [00:00<00:00, 87.33it/s, training loss=1.39]\n",
            "100%|██████████| 17/17 [00:00<00:00, 227.28it/s, validation loss=1.39]\n"
          ]
        },
        {
          "output_type": "stream",
          "name": "stdout",
          "text": [
            "\n",
            "----------------------------------------  Validation Scores  ----------------------------------------\n",
            "EPOCH: 30\n",
            "avg training loss: 0.011035761226445591, avg validation loss:0.0025789177107545078\n",
            "precision:0.0111731843575419, recall:0.24, f1:0.021352313167259787\n",
            "----------------------------------------------------------------------------------------------------\n"
          ]
        },
        {
          "output_type": "stream",
          "name": "stderr",
          "text": [
            "100%|██████████| 20/20 [00:00<00:00, 84.96it/s, training loss=1.39]\n",
            "100%|██████████| 17/17 [00:00<00:00, 226.27it/s, validation loss=1.45]\n"
          ]
        },
        {
          "output_type": "stream",
          "name": "stdout",
          "text": [
            "\n",
            "----------------------------------------  Validation Scores  ----------------------------------------\n",
            "EPOCH: 31\n",
            "avg training loss: 0.011158812317089298, avg validation loss:0.002690388589100324\n",
            "precision:0.011617100371747211, recall:0.25, f1:0.02220248667850799\n",
            "----------------------------------------------------------------------------------------------------\n"
          ]
        },
        {
          "output_type": "stream",
          "name": "stderr",
          "text": [
            "100%|██████████| 20/20 [00:00<00:00, 88.22it/s, training loss=1.39]\n",
            "100%|██████████| 17/17 [00:00<00:00, 221.50it/s, validation loss=1.38]\n"
          ]
        },
        {
          "output_type": "stream",
          "name": "stdout",
          "text": [
            "\n",
            "----------------------------------------  Validation Scores  ----------------------------------------\n",
            "EPOCH: 32\n",
            "avg training loss: 0.011073556895459559, avg validation loss:0.0025657384369009934\n",
            "precision:0.18912639405204462, recall:0.25, f1:0.21534391534391537\n",
            "----------------------------------------------------------------------------------------------------\n"
          ]
        },
        {
          "output_type": "stream",
          "name": "stderr",
          "text": [
            "100%|██████████| 20/20 [00:00<00:00, 86.59it/s, training loss=1.39]\n",
            "100%|██████████| 17/17 [00:00<00:00, 194.60it/s, validation loss=1.35]\n"
          ]
        },
        {
          "output_type": "stream",
          "name": "stdout",
          "text": [
            "\n",
            "----------------------------------------  Validation Scores  ----------------------------------------\n",
            "EPOCH: 33\n",
            "avg training loss: 0.01099288958118501, avg validation loss:0.0025064353606071613\n",
            "precision:0.041821561338289966, recall:0.25, f1:0.07165605095541402\n",
            "----------------------------------------------------------------------------------------------------\n"
          ]
        },
        {
          "output_type": "stream",
          "name": "stderr",
          "text": [
            "100%|██████████| 20/20 [00:00<00:00, 90.11it/s, training loss=1.33]\n",
            "100%|██████████| 17/17 [00:00<00:00, 263.77it/s, validation loss=1.52]\n"
          ]
        },
        {
          "output_type": "stream",
          "name": "stdout",
          "text": [
            "\n",
            "----------------------------------------  Validation Scores  ----------------------------------------\n",
            "EPOCH: 34\n",
            "avg training loss: 0.010915226321986913, avg validation loss:0.0028258462377640393\n",
            "precision:0.011617100371747211, recall:0.25, f1:0.02220248667850799\n",
            "----------------------------------------------------------------------------------------------------\n"
          ]
        },
        {
          "output_type": "stream",
          "name": "stderr",
          "text": [
            "100%|██████████| 20/20 [00:00<00:00, 90.80it/s, training loss=1.1]\n",
            "100%|██████████| 17/17 [00:00<00:00, 241.85it/s, validation loss=1.58]\n"
          ]
        },
        {
          "output_type": "stream",
          "name": "stdout",
          "text": [
            "\n",
            "----------------------------------------  Validation Scores  ----------------------------------------\n",
            "EPOCH: 35\n",
            "avg training loss: 0.010626610551262738, avg validation loss:0.00293155008975458\n",
            "precision:0.028404907975460122, recall:0.354375, f1:0.05109647929477063\n",
            "----------------------------------------------------------------------------------------------------\n"
          ]
        },
        {
          "output_type": "stream",
          "name": "stderr",
          "text": [
            "100%|██████████| 20/20 [00:00<00:00, 89.65it/s, training loss=0.942]\n",
            "100%|██████████| 17/17 [00:00<00:00, 243.43it/s, validation loss=1.29]\n"
          ]
        },
        {
          "output_type": "stream",
          "name": "stdout",
          "text": [
            "\n",
            "----------------------------------------  Validation Scores  ----------------------------------------\n",
            "EPOCH: 36\n",
            "avg training loss: 0.008920440718525664, avg validation loss:0.0023923228221311888\n",
            "precision:0.2562105079894454, recall:0.3240615615615615, f1:0.11561416553074129\n",
            "----------------------------------------------------------------------------------------------------\n"
          ]
        },
        {
          "output_type": "stream",
          "name": "stderr",
          "text": [
            "100%|██████████| 20/20 [00:00<00:00, 92.14it/s, training loss=0.856]\n",
            "100%|██████████| 17/17 [00:00<00:00, 246.00it/s, validation loss=1.25]\n"
          ]
        },
        {
          "output_type": "stream",
          "name": "stdout",
          "text": [
            "\n",
            "----------------------------------------  Validation Scores  ----------------------------------------\n",
            "EPOCH: 37\n",
            "avg training loss: 0.0076036838168968566, avg validation loss:0.0023269808425336077\n",
            "precision:0.23047391060924782, recall:0.3373326167076167, f1:0.2025664695940213\n",
            "----------------------------------------------------------------------------------------------------\n"
          ]
        },
        {
          "output_type": "stream",
          "name": "stderr",
          "text": [
            "100%|██████████| 20/20 [00:00<00:00, 90.71it/s, training loss=0.667]\n",
            "100%|██████████| 17/17 [00:00<00:00, 236.80it/s, validation loss=1.07]\n"
          ]
        },
        {
          "output_type": "stream",
          "name": "stdout",
          "text": [
            "\n",
            "----------------------------------------  Validation Scores  ----------------------------------------\n",
            "EPOCH: 38\n",
            "avg training loss: 0.00634256833855926, avg validation loss:0.0019859361382665243\n",
            "precision:0.25807186798793924, recall:0.36710124897624896, f1:0.2095638707914987\n",
            "----------------------------------------------------------------------------------------------------\n"
          ]
        },
        {
          "output_type": "stream",
          "name": "stderr",
          "text": [
            "100%|██████████| 20/20 [00:00<00:00, 90.77it/s, training loss=0.59]\n",
            "100%|██████████| 17/17 [00:00<00:00, 217.15it/s, validation loss=0.961]\n"
          ]
        },
        {
          "output_type": "stream",
          "name": "stdout",
          "text": [
            "\n",
            "----------------------------------------  Validation Scores  ----------------------------------------\n",
            "EPOCH: 39\n",
            "avg training loss: 0.005098132900284447, avg validation loss:0.0017856528989444434\n",
            "precision:0.07674310983134514, recall:0.3665277777777778, f1:0.11030870791112138\n",
            "----------------------------------------------------------------------------------------------------\n"
          ]
        },
        {
          "output_type": "stream",
          "name": "stderr",
          "text": [
            "100%|██████████| 20/20 [00:00<00:00, 91.23it/s, training loss=0.606]\n",
            "100%|██████████| 17/17 [00:00<00:00, 250.63it/s, validation loss=0.872]\n"
          ]
        },
        {
          "output_type": "stream",
          "name": "stdout",
          "text": [
            "\n",
            "----------------------------------------  Validation Scores  ----------------------------------------\n",
            "EPOCH: 40\n",
            "avg training loss: 0.004778383842825081, avg validation loss:0.0016216594711998581\n",
            "precision:0.2608085466595378, recall:0.3278228228228228, f1:0.24789746883766953\n",
            "----------------------------------------------------------------------------------------------------\n"
          ]
        },
        {
          "output_type": "stream",
          "name": "stderr",
          "text": [
            "100%|██████████| 20/20 [00:00<00:00, 91.43it/s, training loss=0.504]\n",
            "100%|██████████| 17/17 [00:00<00:00, 215.80it/s, validation loss=1.04]\n"
          ]
        },
        {
          "output_type": "stream",
          "name": "stdout",
          "text": [
            "\n",
            "----------------------------------------  Validation Scores  ----------------------------------------\n",
            "EPOCH: 41\n",
            "avg training loss: 0.004226397923563503, avg validation loss:0.0019350754284061021\n",
            "precision:0.251871518343615, recall:0.3287878787878788, f1:0.19025040702064952\n",
            "----------------------------------------------------------------------------------------------------\n"
          ]
        },
        {
          "output_type": "stream",
          "name": "stderr",
          "text": [
            "100%|██████████| 20/20 [00:00<00:00, 86.28it/s, training loss=0.377]\n",
            "100%|██████████| 17/17 [00:00<00:00, 236.58it/s, validation loss=0.866]\n"
          ]
        },
        {
          "output_type": "stream",
          "name": "stdout",
          "text": [
            "\n",
            "----------------------------------------  Validation Scores  ----------------------------------------\n",
            "EPOCH: 42\n",
            "avg training loss: 0.0035821955827873542, avg validation loss:0.0016092234827771949\n",
            "precision:0.2965167627383443, recall:0.39744693557193556, f1:0.2150121322052621\n",
            "----------------------------------------------------------------------------------------------------\n"
          ]
        },
        {
          "output_type": "stream",
          "name": "stderr",
          "text": [
            "100%|██████████| 20/20 [00:00<00:00, 89.71it/s, training loss=0.402]\n",
            "100%|██████████| 17/17 [00:00<00:00, 258.23it/s, validation loss=0.887]\n"
          ]
        },
        {
          "output_type": "stream",
          "name": "stdout",
          "text": [
            "\n",
            "----------------------------------------  Validation Scores  ----------------------------------------\n",
            "EPOCH: 43\n",
            "avg training loss: 0.0034898583233760657, avg validation loss:0.001648029651783656\n",
            "precision:0.3091722632254782, recall:0.40126228501228506, f1:0.20981732720863155\n",
            "----------------------------------------------------------------------------------------------------\n"
          ]
        },
        {
          "output_type": "stream",
          "name": "stderr",
          "text": [
            "100%|██████████| 20/20 [00:00<00:00, 88.81it/s, training loss=0.381]\n",
            "100%|██████████| 17/17 [00:00<00:00, 246.20it/s, validation loss=0.912]\n"
          ]
        },
        {
          "output_type": "stream",
          "name": "stdout",
          "text": [
            "\n",
            "----------------------------------------  Validation Scores  ----------------------------------------\n",
            "EPOCH: 44\n",
            "avg training loss: 0.0034163779930902944, avg validation loss:0.0016955859599060285\n",
            "precision:0.297842443365808, recall:0.40309002184002185, f1:0.25717059490018357\n",
            "----------------------------------------------------------------------------------------------------\n"
          ]
        },
        {
          "output_type": "stream",
          "name": "stderr",
          "text": [
            "100%|██████████| 20/20 [00:00<00:00, 93.16it/s, training loss=0.332]\n",
            "100%|██████████| 17/17 [00:00<00:00, 250.75it/s, validation loss=0.889]\n"
          ]
        },
        {
          "output_type": "stream",
          "name": "stdout",
          "text": [
            "\n",
            "----------------------------------------  Validation Scores  ----------------------------------------\n",
            "EPOCH: 45\n",
            "avg training loss: 0.0032315430861808983, avg validation loss:0.001651910047105697\n",
            "precision:0.2931731274680753, recall:0.37822123259623264, f1:0.29256511783498473\n",
            "----------------------------------------------------------------------------------------------------\n"
          ]
        },
        {
          "output_type": "stream",
          "name": "stderr",
          "text": [
            "100%|██████████| 20/20 [00:00<00:00, 90.24it/s, training loss=0.386]\n",
            "100%|██████████| 17/17 [00:00<00:00, 240.36it/s, validation loss=0.944]\n"
          ]
        },
        {
          "output_type": "stream",
          "name": "stdout",
          "text": [
            "\n",
            "----------------------------------------  Validation Scores  ----------------------------------------\n",
            "EPOCH: 46\n",
            "avg training loss: 0.0031234382703383226, avg validation loss:0.001754800958704328\n",
            "precision:0.3040036515908889, recall:0.4047186390936391, f1:0.26863081719307647\n",
            "----------------------------------------------------------------------------------------------------\n"
          ]
        },
        {
          "output_type": "stream",
          "name": "stderr",
          "text": [
            "100%|██████████| 20/20 [00:00<00:00, 88.16it/s, training loss=0.388]\n",
            "100%|██████████| 17/17 [00:00<00:00, 253.30it/s, validation loss=1.6]\n"
          ]
        },
        {
          "output_type": "stream",
          "name": "stdout",
          "text": [
            "\n",
            "----------------------------------------  Validation Scores  ----------------------------------------\n",
            "EPOCH: 47\n",
            "avg training loss: 0.003115239820254006, avg validation loss:0.0029782156518843982\n",
            "precision:0.2963058476907353, recall:0.37106606606606607, f1:0.28728544020429864\n",
            "----------------------------------------------------------------------------------------------------\n"
          ]
        },
        {
          "output_type": "stream",
          "name": "stderr",
          "text": [
            "100%|██████████| 20/20 [00:00<00:00, 88.96it/s, training loss=0.406]\n",
            "100%|██████████| 17/17 [00:00<00:00, 239.60it/s, validation loss=1.85]\n"
          ]
        },
        {
          "output_type": "stream",
          "name": "stdout",
          "text": [
            "\n",
            "----------------------------------------  Validation Scores  ----------------------------------------\n",
            "EPOCH: 48\n",
            "avg training loss: 0.003243413665021707, avg validation loss:0.003444717054473423\n",
            "precision:0.31339285714285714, recall:0.33730770543270544, f1:0.30863376157493805\n",
            "----------------------------------------------------------------------------------------------------\n"
          ]
        },
        {
          "output_type": "stream",
          "name": "stderr",
          "text": [
            "100%|██████████| 20/20 [00:00<00:00, 88.60it/s, training loss=0.53]\n",
            "100%|██████████| 17/17 [00:00<00:00, 254.50it/s, validation loss=1.72]\n"
          ]
        },
        {
          "output_type": "stream",
          "name": "stdout",
          "text": [
            "\n",
            "----------------------------------------  Validation Scores  ----------------------------------------\n",
            "EPOCH: 49\n",
            "avg training loss: 0.0036541790209969156, avg validation loss:0.0031911901381822326\n",
            "precision:0.30955091506713495, recall:0.36677484302484303, f1:0.21667885206191656\n",
            "----------------------------------------------------------------------------------------------------\n"
          ]
        },
        {
          "output_type": "stream",
          "name": "stderr",
          "text": [
            "100%|██████████| 20/20 [00:00<00:00, 91.96it/s, training loss=0.672]\n",
            "100%|██████████| 17/17 [00:00<00:00, 257.94it/s, validation loss=0.888]\n"
          ]
        },
        {
          "output_type": "stream",
          "name": "stdout",
          "text": [
            "\n",
            "----------------------------------------  Validation Scores  ----------------------------------------\n",
            "EPOCH: 50\n",
            "avg training loss: 0.003977914581890357, avg validation loss:0.001650575146799194\n",
            "precision:0.29527914614121514, recall:0.3386936936936937, f1:0.18725168465091682\n",
            "----------------------------------------------------------------------------------------------------\n"
          ]
        },
        {
          "output_type": "stream",
          "name": "stderr",
          "text": [
            "100%|██████████| 20/20 [00:00<00:00, 93.60it/s, training loss=0.666]\n",
            "100%|██████████| 17/17 [00:00<00:00, 261.63it/s, validation loss=1.86]\n"
          ]
        },
        {
          "output_type": "stream",
          "name": "stdout",
          "text": [
            "\n",
            "----------------------------------------  Validation Scores  ----------------------------------------\n",
            "EPOCH: 51\n",
            "avg training loss: 0.00417544182477646, avg validation loss:0.0034488658922755587\n",
            "precision:0.3195572214545383, recall:0.31968041905541905, f1:0.289544079792234\n",
            "----------------------------------------------------------------------------------------------------\n"
          ]
        },
        {
          "output_type": "stream",
          "name": "stderr",
          "text": [
            "100%|██████████| 20/20 [00:00<00:00, 92.17it/s, training loss=0.439]\n",
            "100%|██████████| 17/17 [00:00<00:00, 247.85it/s, validation loss=1.33]\n"
          ]
        },
        {
          "output_type": "stream",
          "name": "stdout",
          "text": [
            "\n",
            "----------------------------------------  Validation Scores  ----------------------------------------\n",
            "EPOCH: 52\n",
            "avg training loss: 0.003379205058283857, avg validation loss:0.002471450979381689\n",
            "precision:0.30846413790066923, recall:0.3154789448539449, f1:0.30219026052745945\n",
            "----------------------------------------------------------------------------------------------------\n"
          ]
        },
        {
          "output_type": "stream",
          "name": "stderr",
          "text": [
            "100%|██████████| 20/20 [00:00<00:00, 91.58it/s, training loss=0.479]\n",
            "100%|██████████| 17/17 [00:00<00:00, 266.80it/s, validation loss=2.22]\n"
          ]
        },
        {
          "output_type": "stream",
          "name": "stdout",
          "text": [
            "\n",
            "----------------------------------------  Validation Scores  ----------------------------------------\n",
            "EPOCH: 53\n",
            "avg training loss: 0.0027962235468623644, avg validation loss:0.004126156129801583\n",
            "precision:0.3690160333219217, recall:0.31919993857493856, f1:0.31746357605473025\n",
            "----------------------------------------------------------------------------------------------------\n"
          ]
        },
        {
          "output_type": "stream",
          "name": "stderr",
          "text": [
            "100%|██████████| 20/20 [00:00<00:00, 92.03it/s, training loss=0.389]\n",
            "100%|██████████| 17/17 [00:00<00:00, 257.92it/s, validation loss=2.53]\n"
          ]
        },
        {
          "output_type": "stream",
          "name": "stdout",
          "text": [
            "\n",
            "----------------------------------------  Validation Scores  ----------------------------------------\n",
            "EPOCH: 54\n",
            "avg training loss: 0.0026119795747139942, avg validation loss:0.0047048064412680704\n",
            "precision:0.3400267923133777, recall:0.3119231162981163, f1:0.31681224101227595\n",
            "----------------------------------------------------------------------------------------------------\n"
          ]
        },
        {
          "output_type": "stream",
          "name": "stderr",
          "text": [
            "100%|██████████| 20/20 [00:00<00:00, 92.67it/s, training loss=0.368]\n",
            "100%|██████████| 17/17 [00:00<00:00, 248.50it/s, validation loss=3.31]\n"
          ]
        },
        {
          "output_type": "stream",
          "name": "stdout",
          "text": [
            "\n",
            "----------------------------------------  Validation Scores  ----------------------------------------\n",
            "EPOCH: 55\n",
            "avg training loss: 0.002113344603246743, avg validation loss:0.006148750454076604\n",
            "precision:0.35179507113609176, recall:0.3160467854217854, f1:0.316892328854202\n",
            "----------------------------------------------------------------------------------------------------\n"
          ]
        },
        {
          "output_type": "stream",
          "name": "stderr",
          "text": [
            "100%|██████████| 20/20 [00:00<00:00, 90.19it/s, training loss=0.361]\n",
            "100%|██████████| 17/17 [00:00<00:00, 234.65it/s, validation loss=3.52]\n"
          ]
        },
        {
          "output_type": "stream",
          "name": "stdout",
          "text": [
            "\n",
            "----------------------------------------  Validation Scores  ----------------------------------------\n",
            "EPOCH: 56\n",
            "avg training loss: 0.0021856788517613784, avg validation loss:0.006538845349421732\n",
            "precision:0.38329583802024747, recall:0.33949341386841386, f1:0.33019944613169094\n",
            "----------------------------------------------------------------------------------------------------\n"
          ]
        },
        {
          "output_type": "stream",
          "name": "stderr",
          "text": [
            "100%|██████████| 20/20 [00:00<00:00, 90.62it/s, training loss=0.258]\n",
            "100%|██████████| 17/17 [00:00<00:00, 245.05it/s, validation loss=3.25]\n"
          ]
        },
        {
          "output_type": "stream",
          "name": "stdout",
          "text": [
            "\n",
            "----------------------------------------  Validation Scores  ----------------------------------------\n",
            "EPOCH: 57\n",
            "avg training loss: 0.0021633853950869483, avg validation loss:0.006036336094030217\n",
            "precision:0.32239549330326234, recall:0.3298646942396943, f1:0.3056519474607342\n",
            "----------------------------------------------------------------------------------------------------\n"
          ]
        },
        {
          "output_type": "stream",
          "name": "stderr",
          "text": [
            "100%|██████████| 20/20 [00:00<00:00, 90.66it/s, training loss=0.289]\n",
            "100%|██████████| 17/17 [00:00<00:00, 242.93it/s, validation loss=2.06]\n"
          ]
        },
        {
          "output_type": "stream",
          "name": "stdout",
          "text": [
            "\n",
            "----------------------------------------  Validation Scores  ----------------------------------------\n",
            "EPOCH: 58\n",
            "avg training loss: 0.0022278548261774078, avg validation loss:0.0038332190212263936\n",
            "precision:0.34028091792054116, recall:0.4059833128583128, f1:0.3423392403689411\n",
            "----------------------------------------------------------------------------------------------------\n"
          ]
        },
        {
          "output_type": "stream",
          "name": "stderr",
          "text": [
            "100%|██████████| 20/20 [00:00<00:00, 91.56it/s, training loss=0.199]\n",
            "100%|██████████| 17/17 [00:00<00:00, 227.10it/s, validation loss=4.18]\n"
          ]
        },
        {
          "output_type": "stream",
          "name": "stdout",
          "text": [
            "\n",
            "----------------------------------------  Validation Scores  ----------------------------------------\n",
            "EPOCH: 59\n",
            "avg training loss: 0.0018781277172395228, avg validation loss:0.007769474752773582\n",
            "precision:0.33495959393575103, recall:0.39072942260442256, f1:0.3373444369770551\n",
            "----------------------------------------------------------------------------------------------------\n"
          ]
        },
        {
          "output_type": "stream",
          "name": "stderr",
          "text": [
            "100%|██████████| 20/20 [00:00<00:00, 92.73it/s, training loss=0.205]\n",
            "100%|██████████| 17/17 [00:00<00:00, 238.22it/s, validation loss=3.72]\n"
          ]
        },
        {
          "output_type": "stream",
          "name": "stdout",
          "text": [
            "\n",
            "----------------------------------------  Validation Scores  ----------------------------------------\n",
            "EPOCH: 60\n",
            "avg training loss: 0.002275899795597656, avg validation loss:0.006910276235700983\n",
            "precision:0.3288579212430602, recall:0.37004572754572757, f1:0.3299558741599662\n",
            "----------------------------------------------------------------------------------------------------\n"
          ]
        },
        {
          "output_type": "stream",
          "name": "stderr",
          "text": [
            "100%|██████████| 20/20 [00:00<00:00, 91.38it/s, training loss=0.234]\n",
            "100%|██████████| 17/17 [00:00<00:00, 236.66it/s, validation loss=2.92]\n"
          ]
        },
        {
          "output_type": "stream",
          "name": "stdout",
          "text": [
            "\n",
            "----------------------------------------  Validation Scores  ----------------------------------------\n",
            "EPOCH: 61\n",
            "avg training loss: 0.0018881982631496952, avg validation loss:0.00542908884778785\n",
            "precision:0.3364466902946095, recall:0.3410848348348348, f1:0.33617602503169797\n",
            "----------------------------------------------------------------------------------------------------\n"
          ]
        },
        {
          "output_type": "stream",
          "name": "stderr",
          "text": [
            "100%|██████████| 20/20 [00:00<00:00, 90.83it/s, training loss=0.304]\n",
            "100%|██████████| 17/17 [00:00<00:00, 229.78it/s, validation loss=2.78]\n"
          ]
        },
        {
          "output_type": "stream",
          "name": "stdout",
          "text": [
            "\n",
            "----------------------------------------  Validation Scores  ----------------------------------------\n",
            "EPOCH: 62\n",
            "avg training loss: 0.0019513163485277874, avg validation loss:0.005165925699538901\n",
            "precision:0.36479529184063225, recall:0.3415543953043953, f1:0.3477526694438459\n",
            "----------------------------------------------------------------------------------------------------\n"
          ]
        },
        {
          "output_type": "stream",
          "name": "stderr",
          "text": [
            "100%|██████████| 20/20 [00:00<00:00, 90.28it/s, training loss=0.343]\n",
            "100%|██████████| 17/17 [00:00<00:00, 250.14it/s, validation loss=2.23]\n"
          ]
        },
        {
          "output_type": "stream",
          "name": "stdout",
          "text": [
            "\n",
            "----------------------------------------  Validation Scores  ----------------------------------------\n",
            "EPOCH: 63\n",
            "avg training loss: 0.0018231874539122717, avg validation loss:0.004152353368284091\n",
            "precision:0.3875127389197396, recall:0.34361298798798795, f1:0.337138300296195\n",
            "----------------------------------------------------------------------------------------------------\n"
          ]
        },
        {
          "output_type": "stream",
          "name": "stderr",
          "text": [
            "100%|██████████| 20/20 [00:00<00:00, 91.61it/s, training loss=0.226]\n",
            "100%|██████████| 17/17 [00:00<00:00, 252.54it/s, validation loss=2.72]\n"
          ]
        },
        {
          "output_type": "stream",
          "name": "stdout",
          "text": [
            "\n",
            "----------------------------------------  Validation Scores  ----------------------------------------\n",
            "EPOCH: 64\n",
            "avg training loss: 0.0016167590942190709, avg validation loss:0.005063435845215524\n",
            "precision:0.425692742176884, recall:0.36072856947856946, f1:0.3590100827039556\n",
            "----------------------------------------------------------------------------------------------------\n"
          ]
        },
        {
          "output_type": "stream",
          "name": "stderr",
          "text": [
            "100%|██████████| 20/20 [00:00<00:00, 90.60it/s, training loss=0.215]\n",
            "100%|██████████| 17/17 [00:00<00:00, 198.97it/s, validation loss=2.34]\n"
          ]
        },
        {
          "output_type": "stream",
          "name": "stdout",
          "text": [
            "\n",
            "----------------------------------------  Validation Scores  ----------------------------------------\n",
            "EPOCH: 65\n",
            "avg training loss: 0.0014482355380514775, avg validation loss:0.004349020333981425\n",
            "precision:0.363116039651402, recall:0.39972495222495225, f1:0.3735983961086937\n",
            "----------------------------------------------------------------------------------------------------\n"
          ]
        },
        {
          "output_type": "stream",
          "name": "stderr",
          "text": [
            "100%|██████████| 20/20 [00:00<00:00, 85.79it/s, training loss=0.191]\n",
            "100%|██████████| 17/17 [00:00<00:00, 246.31it/s, validation loss=2.46]\n"
          ]
        },
        {
          "output_type": "stream",
          "name": "stdout",
          "text": [
            "\n",
            "----------------------------------------  Validation Scores  ----------------------------------------\n",
            "EPOCH: 66\n",
            "avg training loss: 0.0014071469145036095, avg validation loss:0.004576778766391003\n",
            "precision:0.32777651166436955, recall:0.3713875238875239, f1:0.3354006471754048\n",
            "----------------------------------------------------------------------------------------------------\n"
          ]
        },
        {
          "output_type": "stream",
          "name": "stderr",
          "text": [
            "100%|██████████| 20/20 [00:00<00:00, 89.10it/s, training loss=0.238]\n",
            "100%|██████████| 17/17 [00:00<00:00, 201.22it/s, validation loss=2.44]\n"
          ]
        },
        {
          "output_type": "stream",
          "name": "stdout",
          "text": [
            "\n",
            "----------------------------------------  Validation Scores  ----------------------------------------\n",
            "EPOCH: 67\n",
            "avg training loss: 0.0014125908281777454, avg validation loss:0.004537412225092211\n",
            "precision:0.3417983058608059, recall:0.39849901037401037, f1:0.34492671532149755\n",
            "----------------------------------------------------------------------------------------------------\n"
          ]
        },
        {
          "output_type": "stream",
          "name": "stderr",
          "text": [
            "100%|██████████| 20/20 [00:00<00:00, 88.33it/s, training loss=0.251]\n",
            "100%|██████████| 17/17 [00:00<00:00, 274.35it/s, validation loss=2.23]\n"
          ]
        },
        {
          "output_type": "stream",
          "name": "stdout",
          "text": [
            "\n",
            "----------------------------------------  Validation Scores  ----------------------------------------\n",
            "EPOCH: 68\n",
            "avg training loss: 0.0014396629184425043, avg validation loss:0.004147338601293174\n",
            "precision:0.3483708456277591, recall:0.4225962325962326, f1:0.34825159848962645\n",
            "----------------------------------------------------------------------------------------------------\n"
          ]
        },
        {
          "output_type": "stream",
          "name": "stderr",
          "text": [
            "100%|██████████| 20/20 [00:00<00:00, 88.96it/s, training loss=0.272]\n",
            "100%|██████████| 17/17 [00:00<00:00, 261.27it/s, validation loss=1.7]\n"
          ]
        },
        {
          "output_type": "stream",
          "name": "stdout",
          "text": [
            "\n",
            "----------------------------------------  Validation Scores  ----------------------------------------\n",
            "EPOCH: 69\n",
            "avg training loss: 0.0014704573835611439, avg validation loss:0.0031559662304846327\n",
            "precision:0.33115046059780406, recall:0.38585193147693153, f1:0.31646530126173894\n",
            "----------------------------------------------------------------------------------------------------\n"
          ]
        },
        {
          "output_type": "stream",
          "name": "stderr",
          "text": [
            "100%|██████████| 20/20 [00:00<00:00, 89.37it/s, training loss=0.22]\n",
            "100%|██████████| 17/17 [00:00<00:00, 255.96it/s, validation loss=2.05]\n"
          ]
        },
        {
          "output_type": "stream",
          "name": "stdout",
          "text": [
            "\n",
            "----------------------------------------  Validation Scores  ----------------------------------------\n",
            "EPOCH: 70\n",
            "avg training loss: 0.0017278233805309504, avg validation loss:0.0038192635575191682\n",
            "precision:0.3506395545232156, recall:0.4190050846300846, f1:0.33476262541337365\n",
            "----------------------------------------------------------------------------------------------------\n"
          ]
        },
        {
          "output_type": "stream",
          "name": "stderr",
          "text": [
            "100%|██████████| 20/20 [00:00<00:00, 86.43it/s, training loss=0.228]\n",
            "100%|██████████| 17/17 [00:00<00:00, 208.39it/s, validation loss=2.26]\n"
          ]
        },
        {
          "output_type": "stream",
          "name": "stdout",
          "text": [
            "\n",
            "----------------------------------------  Validation Scores  ----------------------------------------\n",
            "EPOCH: 71\n",
            "avg training loss: 0.001682614285749984, avg validation loss:0.004195282893553099\n",
            "precision:0.3584943783900284, recall:0.39831217581217576, f1:0.3578514213351726\n",
            "----------------------------------------------------------------------------------------------------\n"
          ]
        },
        {
          "output_type": "stream",
          "name": "stderr",
          "text": [
            "100%|██████████| 20/20 [00:00<00:00, 88.39it/s, training loss=0.364]\n",
            "100%|██████████| 17/17 [00:00<00:00, 215.66it/s, validation loss=3.86]\n"
          ]
        },
        {
          "output_type": "stream",
          "name": "stdout",
          "text": [
            "\n",
            "----------------------------------------  Validation Scores  ----------------------------------------\n",
            "EPOCH: 72\n",
            "avg training loss: 0.0016876305057843652, avg validation loss:0.007175329449451546\n",
            "precision:0.36225915942897075, recall:0.34791274228774227, f1:0.34208825735818016\n",
            "----------------------------------------------------------------------------------------------------\n"
          ]
        },
        {
          "output_type": "stream",
          "name": "stderr",
          "text": [
            "100%|██████████| 20/20 [00:00<00:00, 91.05it/s, training loss=0.45]\n",
            "100%|██████████| 17/17 [00:00<00:00, 241.54it/s, validation loss=4.19]\n"
          ]
        },
        {
          "output_type": "stream",
          "name": "stdout",
          "text": [
            "\n",
            "----------------------------------------  Validation Scores  ----------------------------------------\n",
            "EPOCH: 73\n",
            "avg training loss: 0.001749147162120752, avg validation loss:0.0077866763430457136\n",
            "precision:0.42863590657708306, recall:0.34680163117663115, f1:0.3402399464861191\n",
            "----------------------------------------------------------------------------------------------------\n"
          ]
        },
        {
          "output_type": "stream",
          "name": "stderr",
          "text": [
            "100%|██████████| 20/20 [00:00<00:00, 91.48it/s, training loss=0.167]\n",
            "100%|██████████| 17/17 [00:00<00:00, 269.77it/s, validation loss=3.89]\n"
          ]
        },
        {
          "output_type": "stream",
          "name": "stdout",
          "text": [
            "\n",
            "----------------------------------------  Validation Scores  ----------------------------------------\n",
            "EPOCH: 74\n",
            "avg training loss: 0.00139847072380018, avg validation loss:0.007230664274506409\n",
            "precision:0.35329501773175, recall:0.3737303781053781, f1:0.3479975855633537\n",
            "----------------------------------------------------------------------------------------------------\n"
          ]
        },
        {
          "output_type": "stream",
          "name": "stderr",
          "text": [
            "100%|██████████| 20/20 [00:00<00:00, 94.02it/s, training loss=0.102]\n",
            "100%|██████████| 17/17 [00:00<00:00, 227.08it/s, validation loss=3.1]\n"
          ]
        },
        {
          "output_type": "stream",
          "name": "stdout",
          "text": [
            "\n",
            "----------------------------------------  Validation Scores  ----------------------------------------\n",
            "EPOCH: 75\n",
            "avg training loss: 0.0010385666537389463, avg validation loss:0.005760727761846492\n",
            "precision:0.38037623223658945, recall:0.4448324460824461, f1:0.3920983778126635\n",
            "----------------------------------------------------------------------------------------------------\n"
          ]
        },
        {
          "output_type": "stream",
          "name": "stderr",
          "text": [
            "100%|██████████| 20/20 [00:00<00:00, 86.05it/s, training loss=0.0835]\n",
            "100%|██████████| 17/17 [00:00<00:00, 246.13it/s, validation loss=2.81]\n"
          ]
        },
        {
          "output_type": "stream",
          "name": "stdout",
          "text": [
            "\n",
            "----------------------------------------  Validation Scores  ----------------------------------------\n",
            "EPOCH: 76\n",
            "avg training loss: 0.0009762771341445963, avg validation loss:0.005232012847985476\n",
            "precision:0.36567522757397797, recall:0.4258154176904177, f1:0.37713655155411424\n",
            "----------------------------------------------------------------------------------------------------\n"
          ]
        },
        {
          "output_type": "stream",
          "name": "stderr",
          "text": [
            "100%|██████████| 20/20 [00:00<00:00, 82.16it/s, training loss=0.114]\n",
            "100%|██████████| 17/17 [00:00<00:00, 257.88it/s, validation loss=3.08]\n"
          ]
        },
        {
          "output_type": "stream",
          "name": "stdout",
          "text": [
            "\n",
            "----------------------------------------  Validation Scores  ----------------------------------------\n",
            "EPOCH: 77\n",
            "avg training loss: 0.0009223391403346409, avg validation loss:0.005733383189346711\n",
            "precision:0.35607755581668626, recall:0.38424293611793614, f1:0.36502641153803944\n",
            "----------------------------------------------------------------------------------------------------\n"
          ]
        },
        {
          "output_type": "stream",
          "name": "stderr",
          "text": [
            "100%|██████████| 20/20 [00:00<00:00, 90.95it/s, training loss=0.0785]\n",
            "100%|██████████| 17/17 [00:00<00:00, 277.35it/s, validation loss=3.63]\n"
          ]
        },
        {
          "output_type": "stream",
          "name": "stdout",
          "text": [
            "\n",
            "----------------------------------------  Validation Scores  ----------------------------------------\n",
            "EPOCH: 78\n",
            "avg training loss: 0.000611950755178762, avg validation loss:0.006744942700552674\n",
            "precision:0.36945807154413446, recall:0.4048844867594868, f1:0.3812047376558103\n",
            "----------------------------------------------------------------------------------------------------\n"
          ]
        },
        {
          "output_type": "stream",
          "name": "stderr",
          "text": [
            "100%|██████████| 20/20 [00:00<00:00, 84.05it/s, training loss=0.0828]\n",
            "100%|██████████| 17/17 [00:00<00:00, 211.88it/s, validation loss=3.69]\n"
          ]
        },
        {
          "output_type": "stream",
          "name": "stdout",
          "text": [
            "\n",
            "----------------------------------------  Validation Scores  ----------------------------------------\n",
            "EPOCH: 79\n",
            "avg training loss: 0.0007603637663120761, avg validation loss:0.006850207605326486\n",
            "precision:0.3645596786970246, recall:0.42534995222495225, f1:0.38030745207537864\n",
            "----------------------------------------------------------------------------------------------------\n"
          ]
        }
      ]
    },
    {
      "cell_type": "markdown",
      "source": [
        "## TESTING"
      ],
      "metadata": {
        "id": "8sNZqsibxknq"
      }
    },
    {
      "cell_type": "code",
      "source": [
        "!ls drive/MyDrive/others/Test/Trac1_test/"
      ],
      "metadata": {
        "colab": {
          "base_uri": "https://localhost:8080/"
        },
        "id": "DWhbAEHU4zMz",
        "outputId": "11a10cfc-aca8-4e15-b1e8-d75364d31d70"
      },
      "execution_count": null,
      "outputs": [
        {
          "output_type": "stream",
          "name": "stdout",
          "text": [
            "bangla_test.csv        combine_test.csv     hin_test_.gsheet\tmag_test.gsheet\n",
            "bangla_test.gsheet     combine_test.gsheet  hin_test_w_ids.csv\tmag_test_w_ids.csv\n",
            "bangla_test_w_ids.csv  hin_test_.csv\t    mag_test.csv\n"
          ]
        }
      ]
    },
    {
      "cell_type": "code",
      "source": [
        "test_df = pd.read_csv('drive/MyDrive/others/Test/Trac1_test/hin_test_w_ids.csv')\n",
        "test_df['sentence'] = valid_df['sentence'].str.lower()\n",
        "\n",
        "\n",
        "test_df['sentence'] = test_df['sentence'].apply(remove_punct_one)\n",
        "test_dataloader = DataLoader(test_dataset, batch_size=16, shuffle=False)\n"
      ],
      "metadata": {
        "id": "sLO16WuxT1La"
      },
      "execution_count": null,
      "outputs": []
    },
    {
      "cell_type": "code",
      "source": [
        "preds, stats = eval_loop(best_model, test_dataloader)"
      ],
      "metadata": {
        "id": "keBIGvPgkLMy",
        "colab": {
          "base_uri": "https://localhost:8080/"
        },
        "outputId": "6d74e102-214b-4ca3-83fd-c5bb347b4d25"
      },
      "execution_count": null,
      "outputs": [
        {
          "output_type": "stream",
          "name": "stderr",
          "text": [
            "100%|██████████| 34/34 [00:00<00:00, 474.84it/s]\n"
          ]
        }
      ]
    },
    {
      "cell_type": "code",
      "source": [
        "stats"
      ],
      "metadata": {
        "id": "NynpVgmnkeQC",
        "colab": {
          "base_uri": "https://localhost:8080/"
        },
        "outputId": "819ffcbf-f451-43e4-ce68-3bdb6cf9a5ed"
      },
      "execution_count": null,
      "outputs": [
        {
          "output_type": "execute_result",
          "data": {
            "text/plain": [
              "{'macro_precision': 0.25320348173515983,\n",
              " 'macro_recall': 0.244972692304153,\n",
              " 'macro_f1': 0.2416986809554397}"
            ]
          },
          "metadata": {},
          "execution_count": 48
        }
      ]
    },
    {
      "cell_type": "code",
      "source": [
        "key_to_val = {v:k for k,v in test_dataset.label_encoding.items()}\n",
        "decoded_pred = [key_to_val[pred] for pred in preds]"
      ],
      "metadata": {
        "id": "0G4iYgQCkhIO"
      },
      "execution_count": null,
      "outputs": []
    },
    {
      "cell_type": "code",
      "source": [
        "test_df['pred'] = decoded_pred"
      ],
      "metadata": {
        "id": "L3E1NuwU5cc-"
      },
      "execution_count": null,
      "outputs": []
    },
    {
      "cell_type": "code",
      "source": [
        "correct = test_df[test_df['sentiment'] == test_df['pred']]"
      ],
      "metadata": {
        "id": "pI9Lr-Km51iC"
      },
      "execution_count": null,
      "outputs": []
    },
    {
      "cell_type": "code",
      "source": [
        "correct['sentiment'].value_counts()\n"
      ],
      "metadata": {
        "colab": {
          "base_uri": "https://localhost:8080/"
        },
        "id": "nYCQ6OoQ53YF",
        "outputId": "15e03e89-cbe9-4756-8a82-e380e84c92f0"
      },
      "execution_count": null,
      "outputs": [
        {
          "output_type": "execute_result",
          "data": {
            "text/plain": [
              "positive    246\n",
              "negative     26\n",
              "mix           2\n",
              "Name: sentiment, dtype: int64"
            ]
          },
          "metadata": {},
          "execution_count": 52
        }
      ]
    },
    {
      "cell_type": "code",
      "source": [],
      "metadata": {
        "id": "IE4TLz5G6Iog"
      },
      "execution_count": null,
      "outputs": []
    }
  ]
}